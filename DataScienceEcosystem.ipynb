{
  "nbformat": 4,
  "nbformat_minor": 0,
  "metadata": {
    "colab": {
      "provenance": []
    },
    "kernelspec": {
      "name": "python3",
      "display_name": "Python 3"
    },
    "language_info": {
      "name": "python"
    }
  },
  "cells": [
    {
      "cell_type": "markdown",
      "source": [
        " Data Science Tools and Ecosystem\n",
        "\n"
      ],
      "metadata": {
        "id": "VuASqcdz-K8i"
      }
    },
    {
      "cell_type": "markdown",
      "source": [
        "In this notebook, Data Science Tools and Ecosystem are summarized.\n"
      ],
      "metadata": {
        "id": "RpvfSZRPAIlQ"
      }
    },
    {
      "cell_type": "markdown",
      "source": [
        "**Objectives:**\n",
        "\n",
        "*   List popular Data Science languages.\n",
        "*   List commonly used libraries for Data Science.\n",
        "*   Introduce to Data Science Tools.\n",
        "*   Explore examples of evaluating arithmetic expressions in Python.\n",
        "*   Demonstrate simple arithmetic operations using code cells.\n",
        "\n",
        "\n",
        "\n",
        "\n",
        "\n"
      ],
      "metadata": {
        "id": "XW65U8YhGQ-R"
      }
    },
    {
      "cell_type": "markdown",
      "source": [
        "Some of the popular languages that Data Scientists use are:\n",
        "\n",
        "1) Python\n",
        "2) R\n",
        "3) Java\n",
        "4) Julia"
      ],
      "metadata": {
        "id": "MZh8budkAaIm"
      }
    },
    {
      "cell_type": "markdown",
      "source": [
        "Some of the commonly used libraries used by Data Scientists include:\n",
        "\n",
        "1) Pandas\n",
        "2) Matplotlib\n",
        "3) Numpy\n"
      ],
      "metadata": {
        "id": "8bTVdrpTA4RZ"
      }
    },
    {
      "cell_type": "markdown",
      "source": [
        "| Data Science Tools   |\n",
        "|----------------------|\n",
        "| Github               |\n",
        "| MangoDB              |\n",
        "| Hadoop File system   |\n",
        "\n",
        "\n",
        "\n"
      ],
      "metadata": {
        "id": "SvHS0eerBY2z"
      }
    },
    {
      "cell_type": "markdown",
      "source": [
        "Below are a few examples of evaluating arithmetic expressions in Python."
      ],
      "metadata": {
        "id": "nJeLGye8ErGr"
      }
    },
    {
      "cell_type": "code",
      "execution_count": 1,
      "metadata": {
        "colab": {
          "base_uri": "https://localhost:8080/"
        },
        "id": "CkgmmqJ89_GU",
        "outputId": "702ea119-a6e2-48e6-b6c6-225f9b40e215"
      },
      "outputs": [
        {
          "output_type": "stream",
          "name": "stdout",
          "text": [
            "17\n"
          ]
        }
      ],
      "source": [
        "# This is a simple arithmetic expression to multiply then add integers.\n",
        "x=(3*4)+5\n",
        "print(x)\n"
      ]
    },
    {
      "cell_type": "code",
      "source": [
        "# This will convert 200 minutes to hours by dividing by 60.\n",
        "Hours=200/60\n",
        "print(Hours)"
      ],
      "metadata": {
        "colab": {
          "base_uri": "https://localhost:8080/"
        },
        "id": "9J74T9g-FkWl",
        "outputId": "26815297-0596-48d6-b8a5-0ce377202dd5"
      },
      "execution_count": 2,
      "outputs": [
        {
          "output_type": "stream",
          "name": "stdout",
          "text": [
            "3.3333333333333335\n"
          ]
        }
      ]
    },
    {
      "cell_type": "markdown",
      "source": [
        "Author\n",
        "\n",
        "Dhanashri More\n",
        "\n"
      ],
      "metadata": {
        "id": "VI6d-3YuF-Y2"
      }
    }
  ]
}